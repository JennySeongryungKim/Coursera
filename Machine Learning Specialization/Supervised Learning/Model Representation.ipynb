{
 "cells": [
  {
   "cell_type": "markdown",
   "id": "54af3568-5990-4413-adca-56dcdfd6365a",
   "metadata": {},
   "source": [
    "### Model Representation"
   ]
  },
  {
   "cell_type": "markdown",
   "id": "cce84ca1-de85-4e72-92d6-5930e3b4b352",
   "metadata": {},
   "source": [
    "### Goals\n",
    "- Learn to implement the model $f_{w,b}$ for linear regression with one variable"
   ]
  },
  {
   "cell_type": "code",
   "execution_count": 47,
   "id": "023fd03b-5708-47f1-86bb-2f8fbfb2c4d9",
   "metadata": {},
   "outputs": [],
   "source": [
    "import pandas as pd\n",
    "import matplotlib.pyplot as plt"
   ]
  },
  {
   "cell_type": "markdown",
   "id": "9f6627e0-528e-40ca-a152-c3c9cb2e2582",
   "metadata": {},
   "source": [
    "### Problem Statement\n",
    "- house rent prediction\n",
    "- Size(sqft), Rent Price(in 1,000s of dollars)\n",
    "- predict the price for other houses- says, a house with 1,200 sqft."
   ]
  },
  {
   "cell_type": "code",
   "execution_count": 10,
   "id": "afa4ff4e-ef16-4a09-943f-ceb80d7795dd",
   "metadata": {},
   "outputs": [
    {
     "data": {
      "text/html": [
       "<div>\n",
       "<style scoped>\n",
       "    .dataframe tbody tr th:only-of-type {\n",
       "        vertical-align: middle;\n",
       "    }\n",
       "\n",
       "    .dataframe tbody tr th {\n",
       "        vertical-align: top;\n",
       "    }\n",
       "\n",
       "    .dataframe thead th {\n",
       "        text-align: right;\n",
       "    }\n",
       "</style>\n",
       "<table border=\"1\" class=\"dataframe\">\n",
       "  <thead>\n",
       "    <tr style=\"text-align: right;\">\n",
       "      <th></th>\n",
       "      <th>Posted On</th>\n",
       "      <th>BHK</th>\n",
       "      <th>Rent</th>\n",
       "      <th>Size</th>\n",
       "      <th>Floor</th>\n",
       "      <th>Area Type</th>\n",
       "      <th>Area Locality</th>\n",
       "      <th>City</th>\n",
       "      <th>Furnishing Status</th>\n",
       "      <th>Tenant Preferred</th>\n",
       "      <th>Bathroom</th>\n",
       "      <th>Point of Contact</th>\n",
       "    </tr>\n",
       "  </thead>\n",
       "  <tbody>\n",
       "    <tr>\n",
       "      <th>0</th>\n",
       "      <td>2022-05-18</td>\n",
       "      <td>2</td>\n",
       "      <td>10000</td>\n",
       "      <td>1100</td>\n",
       "      <td>Ground out of 2</td>\n",
       "      <td>Super Area</td>\n",
       "      <td>Bandel</td>\n",
       "      <td>Kolkata</td>\n",
       "      <td>Unfurnished</td>\n",
       "      <td>Bachelors/Family</td>\n",
       "      <td>2</td>\n",
       "      <td>Contact Owner</td>\n",
       "    </tr>\n",
       "    <tr>\n",
       "      <th>1</th>\n",
       "      <td>2022-05-13</td>\n",
       "      <td>2</td>\n",
       "      <td>20000</td>\n",
       "      <td>800</td>\n",
       "      <td>1 out of 3</td>\n",
       "      <td>Super Area</td>\n",
       "      <td>Phool Bagan, Kankurgachi</td>\n",
       "      <td>Kolkata</td>\n",
       "      <td>Semi-Furnished</td>\n",
       "      <td>Bachelors/Family</td>\n",
       "      <td>1</td>\n",
       "      <td>Contact Owner</td>\n",
       "    </tr>\n",
       "    <tr>\n",
       "      <th>2</th>\n",
       "      <td>2022-05-16</td>\n",
       "      <td>2</td>\n",
       "      <td>17000</td>\n",
       "      <td>1000</td>\n",
       "      <td>1 out of 3</td>\n",
       "      <td>Super Area</td>\n",
       "      <td>Salt Lake City Sector 2</td>\n",
       "      <td>Kolkata</td>\n",
       "      <td>Semi-Furnished</td>\n",
       "      <td>Bachelors/Family</td>\n",
       "      <td>1</td>\n",
       "      <td>Contact Owner</td>\n",
       "    </tr>\n",
       "    <tr>\n",
       "      <th>3</th>\n",
       "      <td>2022-07-04</td>\n",
       "      <td>2</td>\n",
       "      <td>10000</td>\n",
       "      <td>800</td>\n",
       "      <td>1 out of 2</td>\n",
       "      <td>Super Area</td>\n",
       "      <td>Dumdum Park</td>\n",
       "      <td>Kolkata</td>\n",
       "      <td>Unfurnished</td>\n",
       "      <td>Bachelors/Family</td>\n",
       "      <td>1</td>\n",
       "      <td>Contact Owner</td>\n",
       "    </tr>\n",
       "    <tr>\n",
       "      <th>4</th>\n",
       "      <td>2022-05-09</td>\n",
       "      <td>2</td>\n",
       "      <td>7500</td>\n",
       "      <td>850</td>\n",
       "      <td>1 out of 2</td>\n",
       "      <td>Carpet Area</td>\n",
       "      <td>South Dum Dum</td>\n",
       "      <td>Kolkata</td>\n",
       "      <td>Unfurnished</td>\n",
       "      <td>Bachelors</td>\n",
       "      <td>1</td>\n",
       "      <td>Contact Owner</td>\n",
       "    </tr>\n",
       "  </tbody>\n",
       "</table>\n",
       "</div>"
      ],
      "text/plain": [
       "    Posted On  BHK   Rent  Size            Floor    Area Type  \\\n",
       "0  2022-05-18    2  10000  1100  Ground out of 2   Super Area   \n",
       "1  2022-05-13    2  20000   800       1 out of 3   Super Area   \n",
       "2  2022-05-16    2  17000  1000       1 out of 3   Super Area   \n",
       "3  2022-07-04    2  10000   800       1 out of 2   Super Area   \n",
       "4  2022-05-09    2   7500   850       1 out of 2  Carpet Area   \n",
       "\n",
       "              Area Locality     City Furnishing Status  Tenant Preferred  \\\n",
       "0                    Bandel  Kolkata       Unfurnished  Bachelors/Family   \n",
       "1  Phool Bagan, Kankurgachi  Kolkata    Semi-Furnished  Bachelors/Family   \n",
       "2   Salt Lake City Sector 2  Kolkata    Semi-Furnished  Bachelors/Family   \n",
       "3               Dumdum Park  Kolkata       Unfurnished  Bachelors/Family   \n",
       "4             South Dum Dum  Kolkata       Unfurnished         Bachelors   \n",
       "\n",
       "   Bathroom Point of Contact  \n",
       "0         2    Contact Owner  \n",
       "1         1    Contact Owner  \n",
       "2         1    Contact Owner  \n",
       "3         1    Contact Owner  \n",
       "4         1    Contact Owner  "
      ]
     },
     "execution_count": 10,
     "metadata": {},
     "output_type": "execute_result"
    }
   ],
   "source": [
    "rent_df = pd.read_csv(\"~/Downloads/House Rent Prediction Dataset/House_Rent_Dataset.csv\")\n",
    "rent_df.head()"
   ]
  },
  {
   "cell_type": "code",
   "execution_count": 13,
   "id": "5499681e-24e0-45e6-b5d3-ea8f0ae9f1d7",
   "metadata": {},
   "outputs": [
    {
     "name": "stdout",
     "output_type": "stream",
     "text": [
      "x_train = 0       1100\n",
      "1        800\n",
      "2       1000\n",
      "3        800\n",
      "4        850\n",
      "        ... \n",
      "4741    1000\n",
      "4742    2000\n",
      "4743    1750\n",
      "4744    1500\n",
      "4745    1000\n",
      "Name: Size, Length: 4746, dtype: int64\n",
      "y_train = 0       10000\n",
      "1       20000\n",
      "2       17000\n",
      "3       10000\n",
      "4        7500\n",
      "        ...  \n",
      "4741    15000\n",
      "4742    29000\n",
      "4743    35000\n",
      "4744    45000\n",
      "4745    15000\n",
      "Name: Rent, Length: 4746, dtype: int64\n"
     ]
    }
   ],
   "source": [
    "#x_train is the input variable\n",
    "#y_train is the target\n",
    "x_train = rent_df[\"Size\"]\n",
    "y_train = rent_df[\"Rent\"]\n",
    "print(f\"x_train = {x_train}\")\n",
    "print(f\"y_train = {y_train}\")"
   ]
  },
  {
   "cell_type": "markdown",
   "id": "8d3436a4-bdc4-4647-a8f7-057831ec7128",
   "metadata": {},
   "source": [
    "### Number of training examples `m`\n",
    "- `m`: the number of training examples\n",
    "- df.shape: returns (# of columns, # of rows)\n",
    "\n",
    "  df.shape[0]: the length of the array and number of examples\n",
    "- can also use the Python `len()` function"
   ]
  },
  {
   "cell_type": "code",
   "execution_count": 16,
   "id": "700a70ed-0b0e-4232-97a8-8a969830f298",
   "metadata": {},
   "outputs": [
    {
     "name": "stdout",
     "output_type": "stream",
     "text": [
      "x_train.shape: (4746,)\n",
      "Number of training examples is: 4746\n"
     ]
    }
   ],
   "source": [
    "# m is the number of training examples\n",
    "print(f\"x_train.shape: {x_train.shape}\")\n",
    "m = x_train.shape[0]\n",
    "print(f\"Number of training examples is: {m}\")"
   ]
  },
  {
   "cell_type": "code",
   "execution_count": 18,
   "id": "fe594418-ec13-4ef4-ad3a-c80bf3830de1",
   "metadata": {},
   "outputs": [
    {
     "name": "stdout",
     "output_type": "stream",
     "text": [
      "Number of training examples is: 4746\n"
     ]
    }
   ],
   "source": [
    "m = len(x_train)\n",
    "print(f\"Number of training examples is: {m}\")"
   ]
  },
  {
   "cell_type": "markdown",
   "id": "82d5abba-f2eb-49e2-ab85-041d16d68037",
   "metadata": {},
   "source": [
    "### Training example `x_i, y_i`\n",
    "\n",
    "- (x$^{(i)}$, y$^{(i)}$) : $i^{th}$ training example"
   ]
  },
  {
   "cell_type": "code",
   "execution_count": 25,
   "id": "beee8e0c-21fb-4147-acdb-0780fdaa835d",
   "metadata": {},
   "outputs": [
    {
     "name": "stdout",
     "output_type": "stream",
     "text": [
      "(x^(4745), y^(4745)) = (1000, 15000)\n"
     ]
    }
   ],
   "source": [
    "#(x^4745, y^4745)\n",
    "for i in range(m):\n",
    "    x_i = x_train[i]\n",
    "    y_i = y_train[i]\n",
    "print(f\"(x^({i}), y^({i})) = ({x_i}, {y_i})\")"
   ]
  },
  {
   "cell_type": "markdown",
   "id": "083dcaa1-5ba8-4a5b-bd4a-1218b438226e",
   "metadata": {},
   "source": [
    "### Plotting the data\n",
    "- `scatter()` function\n",
    "- arguments: `marker` and `c` sho the points as red crosses(the default is blue dots)\n",
    "- plt.title(\"title\")\n",
    "- plt.xlabel(\"x_label\")\n",
    "- plt.ylabel(\"y_label\")"
   ]
  },
  {
   "cell_type": "code",
   "execution_count": 35,
   "id": "1dd11e68-a004-4acf-a211-41ba7bb207e9",
   "metadata": {},
   "outputs": [
    {
     "data": {
      "image/png": "[encoded data removed]",
      "text/plain": [
       "<Figure size 640x480 with 1 Axes>"
      ]
     },
     "metadata": {},
     "output_type": "display_data"
    }
   ],
   "source": [
    "#Plot the data points\n",
    "plt.scatter(x_train, y_train, marker='x', c='r')\n",
    "#Set the title\n",
    "plt.title(\"Rent Prices\")\n",
    "#Set the y-axis label\n",
    "plt.ylabel(\"Price(in 1,000s of dollars)\")\n",
    "#Set the x-axis label\n",
    "plt.xlabel(\"Size(sqft)\")\n",
    "plt.show()"
   ]
  },
  {
   "cell_type": "markdown",
   "id": "4f742a96-1139-4bd8-a20f-91ba9b8119f9",
   "metadata": {},
   "source": [
    "### Model function\n",
    "\n",
    "the model function for linear regression (which is a function that maps from `x` to `y`) is represented as \n",
    "\n",
    "$$ f_{w,b}(x^{(i)}) = wx^{(i)} + b \\tag{1}$$\n",
    "\n",
    "The formula above is how you can represent straight lines - different values of $w$ and $b$ give you different straight lines on the plot."
   ]
  },
  {
   "cell_type": "code",
   "execution_count": 31,
   "id": "39c2bec6-f073-4fd9-9dc2-ffed19902535",
   "metadata": {},
   "outputs": [
    {
     "name": "stdout",
     "output_type": "stream",
     "text": [
      "w: 5\n",
      "b: 1.5\n"
     ]
    }
   ],
   "source": [
    "w = 5\n",
    "b = 1.5\n",
    "\n",
    "print(f\"w: {w}\")\n",
    "print(f\"b: {b}\")"
   ]
  },
  {
   "cell_type": "markdown",
   "id": "7654bd93-3a84-44f7-88bc-7a1e241f5f69",
   "metadata": {},
   "source": [
    "Now, let's compute the value of $f_{w,b}(x^{(i)})$ for data points. You can explicitly write this out for each data point as - \n",
    "\n",
    "for $x^{(0)}$, `f_wb = w * x[0] + b`\n",
    "\n",
    "for $x^{(1)}$, `f_wb = w * x[1] + b`\n"
   ]
  },
  {
   "cell_type": "code",
   "execution_count": 37,
   "id": "334f051f-10b8-48d1-a9a0-0881f14d237d",
   "metadata": {},
   "outputs": [],
   "source": [
    "def compute_model_output(x,w,b):\n",
    "    '''\n",
    "    computes the prediction of a linear model\n",
    "    Args:\n",
    "        x(pd.Serires): Data, m examples\n",
    "        w,b (scalar) : model parameters\n",
    "    Returns\n",
    "        f_wb (pd.Series): model prediction\n",
    "    '''\n",
    "    \n",
    "    f_wb = pd.Series(index=x.index)\n",
    "\n",
    "    for i in x.index:\n",
    "        f_wb[i] = w * x[i] + b\n",
    "        #print(f\"f_wb[{i}] = {w} * {x[i]} + {b} = {f_wb[i]}\")\n",
    "\n",
    "    return f_wb"
   ]
  },
  {
   "cell_type": "code",
   "execution_count": 40,
   "id": "3dd24698-5845-4551-a9fa-16ed05787a34",
   "metadata": {},
   "outputs": [
    {
     "data": {
      "image/png": "[encoded data removed]",
      "text/plain": [
       "<Figure size 640x480 with 1 Axes>"
      ]
     },
     "metadata": {},
     "output_type": "display_data"
    }
   ],
   "source": [
    "tmp_f_wb = compute_model_output(x_train, w, b)\n",
    "\n",
    "#Plot our model prediction\n",
    "plt.plot(x_train, tmp_f_wb, c='b', label= 'Our Prediction')\n",
    "\n",
    "#Plot the data points\n",
    "plt.scatter(x_train, y_train, marker='x', c='r', label = 'Actual Values')\n",
    "\n",
    "#Set the title\n",
    "plt.title(\"Rent Prices\")\n",
    "#Set the y-axis label\n",
    "plt.ylabel(\"Price (in 1,000s of dollars)\")\n",
    "#Set the x-axis label\n",
    "plt.xlabel(\"Size(sqft)\")\n",
    "plt.legend()\n",
    "plt.show()"
   ]
  },
  {
   "cell_type": "markdown",
   "id": "3458b839-e637-4699-8371-9c324a314621",
   "metadata": {},
   "source": [
    "### Prediction\n",
    "- Predict the rent price of a house with 1,200 sqft."
   ]
  },
  {
   "cell_type": "code",
   "execution_count": 48,
   "id": "75f60728-b533-4d16-9347-72fa1c59e08a",
   "metadata": {},
   "outputs": [
    {
     "name": "stdout",
     "output_type": "stream",
     "text": [
      "$2 thousand dollars\n"
     ]
    }
   ],
   "source": [
    "w = 2\n",
    "b = 0.2\n",
    "x_i = 1200\n",
    "cost_1200sqft = w * x_i + b    \n",
    "\n",
    "print(f\"${cost_1200sqft/1000:.0f} thousand dollars\")"
   ]
  }
 ],
 "metadata": {
  "kernelspec": {
   "display_name": "Python 3 (ipykernel)",
   "language": "python",
   "name": "python3"
  },
  "language_info": {
   "codemirror_mode": {
    "name": "ipython",
    "version": 3
   },
   "file_extension": ".py",
   "mimetype": "text/x-python",
   "name": "python",
   "nbconvert_exporter": "python",
   "pygments_lexer": "ipython3",
   "version": "3.12.2"
  }
 },
 "nbformat": 4,
 "nbformat_minor": 5
}
