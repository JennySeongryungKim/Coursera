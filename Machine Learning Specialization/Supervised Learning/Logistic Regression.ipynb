{
 "cells": [
  {
   "cell_type": "markdown",
   "id": "53de7cff-b6dd-4986-9deb-554ffcceb00c",
   "metadata": {},
   "source": [
    "## Logistic Regression"
   ]
  },
  {
   "cell_type": "markdown",
   "id": "78f4d66b-3818-4582-89a6-af64f9ef4fac",
   "metadata": {},
   "source": [
    "### Sigmoid(Logistic) Function\n",
    "\n",
    "The **sigmoid function** is a mathematical function that produces an \"S\" shaped curve (also called a logistic curve) and maps any real-valued input to a range between 0 and 1. It is commonly used in machine learning, especially for binary classification tasks, to model probabilities.\n",
    "\n",
    "The sigmoid function is defined as:\n",
    "\n",
    "$\n",
    "S(x) = \\frac{1}{1 + e^{-x}}\n",
    "$\n",
    "\n",
    "Where:\n",
    "- $ S(x) $ is the output of the sigmoid function for the input \\( x \\).\n",
    "- $ e $ is the base of the natural logarithm (approximately 2.71828).\n",
    "- $ x $ is the input to the function, which can be any real number.\n"
   ]
  },
  {
   "cell_type": "code",
   "execution_count": 9,
   "id": "aaa595fd-8433-49c7-81c5-2718c30654f2",
   "metadata": {},
   "outputs": [],
   "source": [
    "import numpy as np\n",
    "import pandas as pd\n",
    "import matplotlib.pyplot as plt\n",
    "from sklearn.model_selection import train_test_split\n",
    "from sklearn.linear_model import LogisticRegression\n",
    "from sklearn.datasets import make_classification\n",
    "from sklearn.metrics import accuracy_score, confusion_matrix"
   ]
  },
  {
   "cell_type": "markdown",
   "id": "df4c263a-88a3-4b75-b92e-8ab03017938b",
   "metadata": {},
   "source": [
    "### Define sigmoid(Logistic) function"
   ]
  },
  {
   "cell_type": "code",
   "execution_count": 4,
   "id": "c241b64b-88d0-4b7e-83fa-b948d9777ff9",
   "metadata": {},
   "outputs": [],
   "source": [
    "def sigmoid(x):\n",
    "    return 1 / (1 + np.exp(-x))"
   ]
  },
  {
   "cell_type": "code",
   "execution_count": 5,
   "id": "dc281f3c-5883-466f-a39e-ad885b91c4bc",
   "metadata": {},
   "outputs": [],
   "source": [
    "# Generate input values\n",
    "x = np.linspace(-10, 10, 100)\n",
    "\n",
    "# Compute the sigmoid of each input value\n",
    "y = sigmoid(x)"
   ]
  },
  {
   "cell_type": "code",
   "execution_count": 7,
   "id": "6e90821f-b731-4d35-99f0-fc309a3c7e7c",
   "metadata": {},
   "outputs": [
    {
     "data": {
      "image/png": "[encoded data removed]",
      "text/plain": [
       "<Figure size 640x480 with 1 Axes>"
      ]
     },
     "metadata": {},
     "output_type": "display_data"
    }
   ],
   "source": [
    "# Plot the sigmoid function\n",
    "plt.plot(x, y, label='Sigmoid Function')\n",
    "plt.title('Sigmoid Function')\n",
    "plt.xlabel('x')\n",
    "plt.ylabel('S(x)')\n",
    "plt.axhline(0, color='black',linewidth=0.5)\n",
    "plt.axvline(0, color='black',linewidth=0.5)\n",
    "plt.grid(True)\n",
    "plt.legend()\n",
    "plt.show()"
   ]
  },
  {
   "cell_type": "markdown",
   "id": "042ea79b-a20b-4dcb-a33a-3002e48f6fa5",
   "metadata": {},
   "source": [
    "### Logistic Regression\n",
    "\n",
    "The logistic regression model can be expressed as:\n",
    "\n",
    "$\n",
    "P(y=1 | x) = \\frac{1}{1 + e^{-(w_0 + w_1 x_1 + w_2 x_2 + ... + w_n x_n)}}\n",
    "$\n",
    "\n",
    "Where:\n",
    "- $P(y=1 | x)$ is the probability that the output is 1, given the input features \\(x\\).\n",
    "- $w_0$ is the intercept term (bias).\n",
    "- $w_1, w_2, ..., w_n$ are the weights (coefficients) for each feature.\n",
    "- $x_1, x_2, ..., x_n$ are the input features.\n",
    "\n",
    "The logistic function outputs a value between 0 and 1, which is interpreted as the probability that the input belongs to the positive class (class `1`)."
   ]
  },
  {
   "cell_type": "code",
   "execution_count": 12,
   "id": "ec1f2415-aa44-4bd5-bf07-e2c65a431f5b",
   "metadata": {},
   "outputs": [],
   "source": [
    "# Logistic Regression Model\n",
    "def logistic_regression(X, y, num_iterations=1000, learning_rate=0.01):\n",
    "    m, n = X.shape  # m is number of training examples, n is number of features\n",
    "    w = np.zeros(n)  # Initialize weights to zero\n",
    "    b = 0  # Initialize bias to zero\n",
    "\n",
    "    # Gradient descent\n",
    "    for i in range(num_iterations):\n",
    "        # Compute the model's prediction (h(x))\n",
    "        z = np.dot(X, w) + b  # Linear combination of weights and features\n",
    "        h = sigmoid(z)  # Apply sigmoid to get a probability\n",
    "\n",
    "        # Compute the gradients\n",
    "        dw = (1 / m) * np.dot(X.T, (h - y))  # Gradient of cost with respect to w\n",
    "        db = (1 / m) * np.sum(h - y)  # Gradient of cost with respect to b\n",
    "\n",
    "        # Update weights and bias using gradient descent\n",
    "        w -= learning_rate * dw\n",
    "        b -= learning_rate * db\n",
    "\n",
    "        # Optionally print the cost every 100 iterations\n",
    "        if i % 100 == 0:\n",
    "            cost = compute_cost(X, y, w, b)\n",
    "            print(f\"Iteration {i}: Cost {cost}\")\n",
    "\n",
    "    return w, b"
   ]
  },
  {
   "cell_type": "code",
   "execution_count": 14,
   "id": "0b584ac3-56be-4599-b9ec-b7266c1f464c",
   "metadata": {},
   "outputs": [],
   "source": [
    "# Compute the cost function (log loss)\n",
    "def compute_cost(X, y, w, b):\n",
    "    m = X.shape[0]\n",
    "    z = np.dot(X, w) + b\n",
    "    h = sigmoid(z)\n",
    "    cost = (-1 / m) * np.sum(y * np.log(h) + (1 - y) * np.log(1 - h))\n",
    "    return cost"
   ]
  },
  {
   "cell_type": "code",
   "execution_count": 16,
   "id": "5c76648c-d3ae-4cc6-90b7-74f528ac28ab",
   "metadata": {},
   "outputs": [],
   "source": [
    "# Predict function (for binary classification)\n",
    "def predict(X, w, b):\n",
    "    z = np.dot(X, w) + b\n",
    "    h = sigmoid(z)\n",
    "    return (h >= 0.5).astype(int)  # Return 1 if probability >= 0.5, else 0"
   ]
  },
  {
   "cell_type": "code",
   "execution_count": 17,
   "id": "3b05ff06-128a-4a3c-a0af-a9eb0bd4d0a6",
   "metadata": {},
   "outputs": [],
   "source": [
    "# Let's assume we have a small dataset where X is a 2D array (2 features)\n",
    "# and y is the binary target (0 or 1)\n",
    "X = np.array([[2.0, 3.0], [1.0, 1.0], [3.0, 2.0], [4.0, 5.0], [1.5, 2.5], [3.5, 3.5]])\n",
    "y = np.array([0, 0, 0, 1, 0, 1])  # Target labels"
   ]
  },
  {
   "cell_type": "code",
   "execution_count": 18,
   "id": "f9748964-1940-490e-9277-e929cda89e3e",
   "metadata": {},
   "outputs": [
    {
     "name": "stdout",
     "output_type": "stream",
     "text": [
      "Iteration 0: Cost 0.6928697500043495\n",
      "Iteration 100: Cost 0.6672333206506265\n",
      "Iteration 200: Cost 0.6434556715949482\n",
      "Iteration 300: Cost 0.6212699824521329\n",
      "Iteration 400: Cost 0.6005568603023284\n",
      "Iteration 500: Cost 0.5812032251025786\n",
      "Iteration 600: Cost 0.5631028802944169\n",
      "Iteration 700: Cost 0.5461567971289938\n",
      "Iteration 800: Cost 0.5302731610047007\n",
      "Iteration 900: Cost 0.5153672391700078\n"
     ]
    }
   ],
   "source": [
    "# Train the logistic regression model\n",
    "w, b = logistic_regression(X, y)\n",
    "\n",
    "# Make predictions\n",
    "predictions = predict(X, w, b)"
   ]
  },
  {
   "cell_type": "code",
   "execution_count": 19,
   "id": "d13b1130-6cfc-4d4e-924d-4b0179615f4e",
   "metadata": {},
   "outputs": [
    {
     "name": "stdout",
     "output_type": "stream",
     "text": [
      "Trained weights: [0.20973809 0.21116386]\n",
      "Trained bias: -1.3450011843424843\n",
      "Predictions: [0 0 0 1 0 1]\n"
     ]
    }
   ],
   "source": [
    "print(\"Trained weights:\", w)\n",
    "print(\"Trained bias:\", b)\n",
    "print(\"Predictions:\", predictions)"
   ]
  },
  {
   "cell_type": "markdown",
   "id": "70b38a48-7618-456e-b5c9-624dba700e83",
   "metadata": {},
   "source": [
    "### Plot decision boundary"
   ]
  },
  {
   "cell_type": "code",
   "execution_count": 20,
   "id": "1a22baae-e398-478b-80ba-eee3c96c8ad7",
   "metadata": {},
   "outputs": [
    {
     "data": {
      "image/png": "[encoded data removed]",
      "text/plain": [
       "<Figure size 640x480 with 1 Axes>"
      ]
     },
     "metadata": {},
     "output_type": "display_data"
    }
   ],
   "source": [
    "# Visualizing the decision boundary\n",
    "def plot_decision_boundary(X, y, w, b):\n",
    "    # Plot data points\n",
    "    plt.scatter(X[:, 0], X[:, 1], c=y, cmap=plt.cm.Spectral)\n",
    "    plt.xlabel('Feature 1')\n",
    "    plt.ylabel('Feature 2')\n",
    "\n",
    "    # Plot the decision boundary\n",
    "    x_min, x_max = X[:, 0].min() - 1, X[:, 0].max() + 1\n",
    "    y_min, y_max = X[:, 1].min() - 1, X[:, 1].max() + 1\n",
    "\n",
    "    xx, yy = np.meshgrid(np.arange(x_min, x_max, 0.1), np.arange(y_min, y_max, 0.1))\n",
    "    Z = predict(np.c_[xx.ravel(), yy.ravel()], w, b)\n",
    "    Z = Z.reshape(xx.shape)\n",
    "\n",
    "    plt.contour(xx, yy, Z, levels=[0.5], cmap=\"Greys\", linewidths=2)\n",
    "    plt.title(\"Logistic Regression Decision Boundary\")\n",
    "    plt.show()\n",
    "\n",
    "# Call the plot function to visualize the decision boundary\n",
    "plot_decision_boundary(X, y, w, b)"
   ]
  }
 ],
 "metadata": {
  "kernelspec": {
   "display_name": "Python 3 (ipykernel)",
   "language": "python",
   "name": "python3"
  },
  "language_info": {
   "codemirror_mode": {
    "name": "ipython",
    "version": 3
   },
   "file_extension": ".py",
   "mimetype": "text/x-python",
   "name": "python",
   "nbconvert_exporter": "python",
   "pygments_lexer": "ipython3",
   "version": "3.12.2"
  }
 },
 "nbformat": 4,
 "nbformat_minor": 5
}
